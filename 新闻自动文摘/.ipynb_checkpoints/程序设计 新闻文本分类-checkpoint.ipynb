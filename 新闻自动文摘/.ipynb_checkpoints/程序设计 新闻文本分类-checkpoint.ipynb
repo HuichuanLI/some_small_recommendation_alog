{
 "cells": [
  {
   "cell_type": "markdown",
   "metadata": {},
   "source": [
    "一：导入模块"
   ]
  },
  {
   "cell_type": "code",
   "execution_count": 1,
   "metadata": {},
   "outputs": [
    {
     "ename": "ModuleNotFoundError",
     "evalue": "No module named 'pyttsx3'",
     "output_type": "error",
     "traceback": [
      "\u001b[0;31m---------------------------------------------------------------------------\u001b[0m",
      "\u001b[0;31mModuleNotFoundError\u001b[0m                       Traceback (most recent call last)",
      "Input \u001b[0;32mIn [1]\u001b[0m, in \u001b[0;36m<cell line: 10>\u001b[0;34m()\u001b[0m\n\u001b[1;32m      8\u001b[0m \u001b[38;5;28;01mimport\u001b[39;00m \u001b[38;5;21;01mmatplotlib\u001b[39;00m\u001b[38;5;21;01m.\u001b[39;00m\u001b[38;5;21;01mpyplot\u001b[39;00m \u001b[38;5;28;01mas\u001b[39;00m \u001b[38;5;21;01mplt\u001b[39;00m \u001b[38;5;66;03m# 图像展示库\u001b[39;00m\n\u001b[1;32m      9\u001b[0m \u001b[38;5;28;01mfrom\u001b[39;00m \u001b[38;5;21;01mimageio\u001b[39;00m \u001b[38;5;28;01mimport\u001b[39;00m imread\u001b[38;5;66;03m#图片读入\u001b[39;00m\n\u001b[0;32m---> 10\u001b[0m \u001b[38;5;28;01mimport\u001b[39;00m \u001b[38;5;21;01mpyttsx3\u001b[39;00m\u001b[38;5;66;03m#音频\u001b[39;00m\n\u001b[1;32m     11\u001b[0m \u001b[38;5;28;01mfrom\u001b[39;00m \u001b[38;5;21;01mgensim\u001b[39;00m \u001b[38;5;28;01mimport\u001b[39;00m corpora,models,similarities\n\u001b[1;32m     12\u001b[0m \u001b[38;5;28;01mimport\u001b[39;00m \u001b[38;5;21;01mgensim\u001b[39;00m\n",
      "\u001b[0;31mModuleNotFoundError\u001b[0m: No module named 'pyttsx3'"
     ]
    }
   ],
   "source": [
    "import wordcloud#词云展示库\n",
    "import numpy as np# numpy数据处理库\n",
    "import pandas as pd\n",
    "import jieba# 结巴分词\n",
    "import jieba.analyse\n",
    "from collections import Counter# 词频统计库\n",
    "from PIL import Image # 图像处理库\n",
    "import matplotlib.pyplot as plt # 图像展示库\n",
    "from imageio import imread#图片读入\n",
    "import pyttsx3#音频\n",
    "from gensim import corpora,models,similarities\n",
    "import gensim\n",
    "from sklearn.model_selection import train_test_split#数据集划分\n",
    "from sklearn.naive_bayes import MultinomialNB#贝叶斯分类器\n",
    "from sklearn.feature_extraction.text import CountVectorizer\n",
    "from sklearn.feature_extraction.text import TfidfVectorizer"
   ]
  },
  {
   "cell_type": "markdown",
   "metadata": {},
   "source": [
    "二：数据的读入以及显示"
   ]
  },
  {
   "cell_type": "code",
   "execution_count": 3,
   "metadata": {},
   "outputs": [
    {
     "data": {
      "text/html": [
       "<div>\n",
       "<style scoped>\n",
       "    .dataframe tbody tr th:only-of-type {\n",
       "        vertical-align: middle;\n",
       "    }\n",
       "\n",
       "    .dataframe tbody tr th {\n",
       "        vertical-align: top;\n",
       "    }\n",
       "\n",
       "    .dataframe thead th {\n",
       "        text-align: right;\n",
       "    }\n",
       "</style>\n",
       "<table border=\"1\" class=\"dataframe\">\n",
       "  <thead>\n",
       "    <tr style=\"text-align: right;\">\n",
       "      <th></th>\n",
       "      <th>category</th>\n",
       "      <th>content</th>\n",
       "    </tr>\n",
       "  </thead>\n",
       "  <tbody>\n",
       "    <tr>\n",
       "      <th>0</th>\n",
       "      <td>体育</td>\n",
       "      <td>黄蜂vs湖人首发：科比带伤战保罗 加索尔救赎之战 新浪体育讯北京时间4月27日，NBA季后赛...</td>\n",
       "    </tr>\n",
       "    <tr>\n",
       "      <th>1</th>\n",
       "      <td>体育</td>\n",
       "      <td>1.7秒神之一击救马刺王朝于危难 这个新秀有点牛！新浪体育讯在刚刚结束的比赛中，回到主场的马...</td>\n",
       "    </tr>\n",
       "    <tr>\n",
       "      <th>2</th>\n",
       "      <td>体育</td>\n",
       "      <td>1人灭掘金！神般杜兰特！ 他想要分的时候没人能挡新浪体育讯在NBA的世界里，真的猛男，敢于直...</td>\n",
       "    </tr>\n",
       "    <tr>\n",
       "      <th>3</th>\n",
       "      <td>体育</td>\n",
       "      <td>韩国国奥20人名单：朴周永领衔 两世界杯国脚入选新浪体育讯据韩联社首尔9月17日电 韩国国奥...</td>\n",
       "    </tr>\n",
       "    <tr>\n",
       "      <th>4</th>\n",
       "      <td>体育</td>\n",
       "      <td>天才中锋崇拜王治郅 周琦：球员最终是靠实力说话2月14日从土耳其男篮邀请赛回到北京之后，周琦...</td>\n",
       "    </tr>\n",
       "  </tbody>\n",
       "</table>\n",
       "</div>"
      ],
      "text/plain": [
       "  category                                            content\n",
       "0       体育  黄蜂vs湖人首发：科比带伤战保罗 加索尔救赎之战 新浪体育讯北京时间4月27日，NBA季后赛...\n",
       "1       体育  1.7秒神之一击救马刺王朝于危难 这个新秀有点牛！新浪体育讯在刚刚结束的比赛中，回到主场的马...\n",
       "2       体育  1人灭掘金！神般杜兰特！ 他想要分的时候没人能挡新浪体育讯在NBA的世界里，真的猛男，敢于直...\n",
       "3       体育  韩国国奥20人名单：朴周永领衔 两世界杯国脚入选新浪体育讯据韩联社首尔9月17日电 韩国国奥...\n",
       "4       体育  天才中锋崇拜王治郅 周琦：球员最终是靠实力说话2月14日从土耳其男篮邀请赛回到北京之后，周琦..."
      ]
     },
     "execution_count": 3,
     "metadata": {},
     "output_type": "execute_result"
    }
   ],
   "source": [
    "df_news=pd.read_table(\"./cnews.val.txt\",names=[\"category\",\"content\"],encoding=\"utf_8\")\n",
    "df_news=df_news.dropna()#有缺失的数据则删除\n",
    "df_news.head()#显示新闻文件的前一个\n",
    "#df_news.tail(1)#显示新闻文件的后一个\n"
   ]
  },
  {
   "cell_type": "code",
   "execution_count": 4,
   "metadata": {},
   "outputs": [
    {
     "data": {
      "text/plain": [
       "(5000,)"
      ]
     },
     "execution_count": 4,
     "metadata": {},
     "output_type": "execute_result"
    }
   ],
   "source": [
    "df_news.content.shape#数据的总量"
   ]
  },
  {
   "cell_type": "code",
   "execution_count": 5,
   "metadata": {},
   "outputs": [
    {
     "data": {
      "text/plain": [
       "array(['体育', '娱乐', '家居', '房产', '教育', '时尚', '时政', '游戏', '科技', '财经'],\n",
       "      dtype=object)"
      ]
     },
     "execution_count": 5,
     "metadata": {},
     "output_type": "execute_result"
    }
   ],
   "source": [
    "#df_news[\"category\"].value_counts()\n",
    "df_news.category.unique()#数据的类别"
   ]
  },
  {
   "cell_type": "markdown",
   "metadata": {},
   "source": [
    "#把新闻文件的内容转化成list格式"
   ]
  },
  {
   "cell_type": "code",
   "execution_count": 6,
   "metadata": {},
   "outputs": [
    {
     "data": {
      "text/plain": [
       "'黄蜂vs湖人首发：科比带伤战保罗 加索尔救赎之战 新浪体育讯北京时间4月27日，NBA季后赛首轮洛杉矶湖人主场迎战新奥尔良黄蜂，此前的比赛中，双方战成2-2平，因此本场比赛对于两支球队来说都非常重要，赛前双方也公布了首发阵容：湖人队：费舍尔、科比、阿泰斯特、加索尔、拜纳姆黄蜂队：保罗、贝里内利、阿里扎、兰德里、奥卡福[新浪NBA官方微博][新浪NBA湖人新闻动态微博][新浪NBA专题][黄蜂vs湖人图文直播室](新浪体育)'"
      ]
     },
     "execution_count": 6,
     "metadata": {},
     "output_type": "execute_result"
    }
   ],
   "source": [
    "content_list=df_news.content.values.tolist()\n",
    "content_list[0] #样本显示\n"
   ]
  },
  {
   "cell_type": "markdown",
   "metadata": {},
   "source": [
    "三：给新闻文本分词  \n",
    "将【文本集】生成【分词列表】\n",
    "使用jieba.cut函数"
   ]
  },
  {
   "cell_type": "code",
   "execution_count": 7,
   "metadata": {},
   "outputs": [
    {
     "name": "stderr",
     "output_type": "stream",
     "text": [
      "Building prefix dict from the default dictionary ...\n",
      "Loading model from cache C:\\Users\\14223\\AppData\\Local\\Temp\\jieba.cache\n",
      "Loading model cost 0.805 seconds.\n",
      "Prefix dict has been built successfully.\n"
     ]
    },
    {
     "data": {
      "text/plain": [
       "['黄蜂',\n",
       " 'vs',\n",
       " '湖人',\n",
       " '首发',\n",
       " '：',\n",
       " '科比',\n",
       " '带伤',\n",
       " '战',\n",
       " '保罗',\n",
       " ' ',\n",
       " '加索尔',\n",
       " '救赎',\n",
       " '之战',\n",
       " ' ',\n",
       " '新浪',\n",
       " '体育讯',\n",
       " '北京',\n",
       " '时间',\n",
       " '4',\n",
       " '月',\n",
       " '27',\n",
       " '日',\n",
       " '，',\n",
       " 'NBA',\n",
       " '季后赛',\n",
       " '首轮',\n",
       " '洛杉矶',\n",
       " '湖人',\n",
       " '主场',\n",
       " '迎战',\n",
       " '新奥尔良',\n",
       " '黄蜂',\n",
       " '，',\n",
       " '此前',\n",
       " '的',\n",
       " '比赛',\n",
       " '中',\n",
       " '，',\n",
       " '双方',\n",
       " '战成',\n",
       " '2',\n",
       " '-',\n",
       " '2',\n",
       " '平',\n",
       " '，',\n",
       " '因此',\n",
       " '本场',\n",
       " '比赛',\n",
       " '对于',\n",
       " '两支',\n",
       " '球队',\n",
       " '来说',\n",
       " '都',\n",
       " '非常',\n",
       " '重要',\n",
       " '，',\n",
       " '赛前',\n",
       " '双方',\n",
       " '也',\n",
       " '公布',\n",
       " '了',\n",
       " '首发',\n",
       " '阵容',\n",
       " '：',\n",
       " '湖人队',\n",
       " '：',\n",
       " '费舍尔',\n",
       " '、',\n",
       " '科比',\n",
       " '、',\n",
       " '阿泰斯特',\n",
       " '、',\n",
       " '加索尔',\n",
       " '、',\n",
       " '拜纳姆',\n",
       " '黄蜂队',\n",
       " '：',\n",
       " '保罗',\n",
       " '、',\n",
       " '贝里',\n",
       " '内利',\n",
       " '、',\n",
       " '阿里',\n",
       " '扎',\n",
       " '、',\n",
       " '兰德',\n",
       " '里',\n",
       " '、',\n",
       " '奥卡福',\n",
       " '[',\n",
       " '新浪',\n",
       " 'NBA',\n",
       " '官方',\n",
       " '微博',\n",
       " ']',\n",
       " '[',\n",
       " '新浪',\n",
       " 'NBA',\n",
       " '湖人',\n",
       " '新闻动态',\n",
       " '微博',\n",
       " ']',\n",
       " '[',\n",
       " '新浪',\n",
       " 'NBA',\n",
       " '专题',\n",
       " ']',\n",
       " '[',\n",
       " '黄蜂',\n",
       " 'vs',\n",
       " '湖人',\n",
       " '图文',\n",
       " '直播室',\n",
       " ']',\n",
       " '(',\n",
       " '新浪',\n",
       " '体育',\n",
       " ')']"
      ]
     },
     "execution_count": 7,
     "metadata": {},
     "output_type": "execute_result"
    }
   ],
   "source": [
    "content_fenci = []#建立一个空的\n",
    "for line in content_list:\n",
    "    text = jieba.lcut(line)#给每一条都分词\n",
    "    if len(text) > 1 and text != '\\r': #换行\n",
    "        content_fenci.append(text)#分词后的结果放入\n",
    "content_fenci[0]  #分词后的一个样本     "
   ]
  },
  {
   "cell_type": "code",
   "execution_count": 8,
   "metadata": {},
   "outputs": [
    {
     "data": {
      "text/html": [
       "<div>\n",
       "<style scoped>\n",
       "    .dataframe tbody tr th:only-of-type {\n",
       "        vertical-align: middle;\n",
       "    }\n",
       "\n",
       "    .dataframe tbody tr th {\n",
       "        vertical-align: top;\n",
       "    }\n",
       "\n",
       "    .dataframe thead th {\n",
       "        text-align: right;\n",
       "    }\n",
       "</style>\n",
       "<table border=\"1\" class=\"dataframe\">\n",
       "  <thead>\n",
       "    <tr style=\"text-align: right;\">\n",
       "      <th></th>\n",
       "      <th>content</th>\n",
       "    </tr>\n",
       "  </thead>\n",
       "  <tbody>\n",
       "    <tr>\n",
       "      <th>0</th>\n",
       "      <td>[黄蜂, vs, 湖人, 首发, ：, 科比, 带伤, 战, 保罗,  , 加索尔, 救赎,...</td>\n",
       "    </tr>\n",
       "    <tr>\n",
       "      <th>1</th>\n",
       "      <td>[1.7, 秒, 神, 之一, 击救, 马刺, 王朝, 于, 危难,  , 这个, 新秀, ...</td>\n",
       "    </tr>\n",
       "    <tr>\n",
       "      <th>2</th>\n",
       "      <td>[1, 人灭, 掘金, ！, 神般, 杜兰特, ！,  , 他, 想要, 分, 的, 时候,...</td>\n",
       "    </tr>\n",
       "    <tr>\n",
       "      <th>3</th>\n",
       "      <td>[韩国, 国奥, 20, 人, 名单, ：, 朴周, 永, 领衔,  , 两, 世界杯, 国...</td>\n",
       "    </tr>\n",
       "    <tr>\n",
       "      <th>4</th>\n",
       "      <td>[天才, 中锋, 崇拜, 王治郅,  , 周琦, ：, 球员, 最终, 是, 靠, 实力, ...</td>\n",
       "    </tr>\n",
       "  </tbody>\n",
       "</table>\n",
       "</div>"
      ],
      "text/plain": [
       "                                             content\n",
       "0  [黄蜂, vs, 湖人, 首发, ：, 科比, 带伤, 战, 保罗,  , 加索尔, 救赎,...\n",
       "1  [1.7, 秒, 神, 之一, 击救, 马刺, 王朝, 于, 危难,  , 这个, 新秀, ...\n",
       "2  [1, 人灭, 掘金, ！, 神般, 杜兰特, ！,  , 他, 想要, 分, 的, 时候,...\n",
       "3  [韩国, 国奥, 20, 人, 名单, ：, 朴周, 永, 领衔,  , 两, 世界杯, 国...\n",
       "4  [天才, 中锋, 崇拜, 王治郅,  , 周琦, ：, 球员, 最终, 是, 靠, 实力, ..."
      ]
     },
     "execution_count": 8,
     "metadata": {},
     "output_type": "execute_result"
    }
   ],
   "source": [
    "df_content=pd.DataFrame({'content':content_fenci})#分词后的数据格式转换成Datafram形式\n",
    "df_content.head()"
   ]
  },
  {
   "cell_type": "markdown",
   "metadata": {},
   "source": [
    "四：去停用词--》将文本中含有的停止词剔除，达到清洗文本的目的。\n"
   ]
  },
  {
   "cell_type": "code",
   "execution_count": 9,
   "metadata": {},
   "outputs": [
    {
     "data": {
      "text/plain": [
       "['在', '了', '\\\\xa0', ')', '有', '(', '中', '年', '都', '为']"
      ]
     },
     "execution_count": 9,
     "metadata": {},
     "output_type": "execute_result"
    }
   ],
   "source": [
    "df_stopwords=pd.read_csv(\"stopword.txt\",index_col=False,sep=\"\\t\",quoting=3,names=['stopword'], encoding='utf-8')#读取停用词\n",
    "#当文本文件中带有英文双引号时，直接用pd.read_csv进行读取会导致行数减少，此时应该对read_csv设置参数quoting=3\n",
    "#df_stopwords.head(10)\n",
    "stopwords_list=df_stopwords.stopword.values.tolist()#把停用词表转化成list格式\n",
    "stopwords_list[0:10]"
   ]
  },
  {
   "cell_type": "markdown",
   "metadata": {},
   "source": [
    "#采取遍历的方法，已经分词后新闻文本中出现了停用词中的单词则去掉。#"
   ]
  },
  {
   "cell_type": "code",
   "execution_count": 10,
   "metadata": {},
   "outputs": [
    {
     "data": {
      "text/plain": [
       "['黄蜂', 'vs', '湖人', '首发', '科比', '带伤', '战', '保罗', ' ', '加索尔']"
      ]
     },
     "execution_count": 10,
     "metadata": {},
     "output_type": "execute_result"
    }
   ],
   "source": [
    "def drop_stopwords(contents,stopwords):\n",
    "    content_clean = []# 放清理后的分词\n",
    "    all_words = []\n",
    "    for line in contents:\n",
    "        line_clean=[]\n",
    "        for word in line:\n",
    "            if word in stopwords:\n",
    "                continue\n",
    "            line_clean.append(word)\n",
    "            all_words.append(str(word))\n",
    "        content_clean.append(line_clean)\n",
    "    return content_clean,all_words\n",
    "\n",
    "content_clean,all_words = drop_stopwords(content_fenci,stopwords_list)\n",
    "content_clean[1]\n",
    "all_words[0:10]"
   ]
  },
  {
   "cell_type": "markdown",
   "metadata": {},
   "source": [
    "#想删除决去停用词后，生成空位所占的位置。比如：以下例子\n",
    "（但是没能解决）"
   ]
  },
  {
   "cell_type": "code",
   "execution_count": 11,
   "metadata": {},
   "outputs": [],
   "source": [
    "s=['黄蜂', 'vs', '湖人', '首发', '科比', '带伤', '战', '保罗', ' ', '加索尔']"
   ]
  },
  {
   "cell_type": "code",
   "execution_count": 12,
   "metadata": {},
   "outputs": [
    {
     "data": {
      "text/plain": [
       "['黄蜂', 'vs', '湖人', '首发', '科比', '带伤', '战', '保罗', '加索尔']"
      ]
     },
     "execution_count": 12,
     "metadata": {},
     "output_type": "execute_result"
    }
   ],
   "source": [
    "for i in s:\n",
    "    if ' ' in s:\n",
    "        s.remove(' ')\n",
    "s"
   ]
  },
  {
   "cell_type": "code",
   "execution_count": 13,
   "metadata": {},
   "outputs": [
    {
     "data": {
      "text/plain": [
       "(1696704, 1)"
      ]
     },
     "execution_count": 13,
     "metadata": {},
     "output_type": "execute_result"
    }
   ],
   "source": [
    "all_word=pd.DataFrame(all_words)\n",
    "all_word.shape"
   ]
  },
  {
   "cell_type": "code",
   "execution_count": 14,
   "metadata": {},
   "outputs": [
    {
     "data": {
      "text/html": [
       "<div>\n",
       "<style scoped>\n",
       "    .dataframe tbody tr th:only-of-type {\n",
       "        vertical-align: middle;\n",
       "    }\n",
       "\n",
       "    .dataframe tbody tr th {\n",
       "        vertical-align: top;\n",
       "    }\n",
       "\n",
       "    .dataframe thead th {\n",
       "        text-align: right;\n",
       "    }\n",
       "</style>\n",
       "<table border=\"1\" class=\"dataframe\">\n",
       "  <thead>\n",
       "    <tr style=\"text-align: right;\">\n",
       "      <th></th>\n",
       "      <th>contents_clean</th>\n",
       "    </tr>\n",
       "  </thead>\n",
       "  <tbody>\n",
       "    <tr>\n",
       "      <th>0</th>\n",
       "      <td>[黄蜂, vs, 湖人, 首发, 科比, 带伤, 战, 保罗,  , 加索尔, 救赎, 之战...</td>\n",
       "    </tr>\n",
       "    <tr>\n",
       "      <th>1</th>\n",
       "      <td>[1.7, 秒, 神, 之一, 击救, 马刺, 王朝, 于, 危难,  , 新秀, 有点, ...</td>\n",
       "    </tr>\n",
       "    <tr>\n",
       "      <th>2</th>\n",
       "      <td>[人灭, 掘金, 神般, 杜兰特,  , 他, 想要, 时候, 没人能, 挡, 新浪, 体育...</td>\n",
       "    </tr>\n",
       "    <tr>\n",
       "      <th>3</th>\n",
       "      <td>[韩国, 国奥, 20, 名单, 朴周, 永, 领衔,  , 两, 世界杯, 国脚, 入选,...</td>\n",
       "    </tr>\n",
       "    <tr>\n",
       "      <th>4</th>\n",
       "      <td>[天才, 中锋, 崇拜, 王治郅,  , 周琦, 球员, 最终, 靠, 实力, 说话, 14...</td>\n",
       "    </tr>\n",
       "  </tbody>\n",
       "</table>\n",
       "</div>"
      ],
      "text/plain": [
       "                                      contents_clean\n",
       "0  [黄蜂, vs, 湖人, 首发, 科比, 带伤, 战, 保罗,  , 加索尔, 救赎, 之战...\n",
       "1  [1.7, 秒, 神, 之一, 击救, 马刺, 王朝, 于, 危难,  , 新秀, 有点, ...\n",
       "2  [人灭, 掘金, 神般, 杜兰特,  , 他, 想要, 时候, 没人能, 挡, 新浪, 体育...\n",
       "3  [韩国, 国奥, 20, 名单, 朴周, 永, 领衔,  , 两, 世界杯, 国脚, 入选,...\n",
       "4  [天才, 中锋, 崇拜, 王治郅,  , 周琦, 球员, 最终, 靠, 实力, 说话, 14..."
      ]
     },
     "execution_count": 14,
     "metadata": {},
     "output_type": "execute_result"
    }
   ],
   "source": [
    "df_clean= pd.DataFrame({'contents_clean':content_clean})\n",
    "df_clean.head()"
   ]
  },
  {
   "cell_type": "markdown",
   "metadata": {},
   "source": [
    "五：统计词频两种方式\n",
    "   "
   ]
  },
  {
   "cell_type": "code",
   "execution_count": 15,
   "metadata": {},
   "outputs": [
    {
     "data": {
      "text/plain": [
       "[(' ', 84037),\n",
       " ('\\xa0', 20021),\n",
       " ('基金', 9828),\n",
       " ('他', 6501),\n",
       " ('一个', 4856),\n",
       " ('而', 4819),\n",
       " ('这', 4476),\n",
       " ('中国', 3948),\n",
       " (',', 3790),\n",
       " ('说', 3410),\n",
       " ('公司', 3304),\n",
       " ('很', 3135),\n",
       " ('企业', 2530),\n",
       " ('进行', 2522),\n",
       " ('—', 2500),\n",
       " ('考试', 2419),\n",
       " ('产品', 2416),\n",
       " ('他们', 2317),\n",
       " ('表示', 2303),\n",
       " ('下', 2299),\n",
       " ('最', 2291),\n",
       " ('元', 2291),\n",
       " ('投资', 2288),\n",
       " ('发展', 2286),\n",
       " ('问题', 2280),\n",
       " ('好', 2238),\n",
       " ('做', 2225),\n",
       " ('目前', 2143),\n",
       " ('记者', 2116),\n",
       " ('北京', 2099),\n",
       " ('来', 2076),\n",
       " ('10', 2059),\n",
       " ('活动', 2058),\n",
       " ('又', 2057),\n",
       " ('行业', 2050),\n",
       " ('可', 2019),\n",
       " ('to', 2000),\n",
       " ('如果', 1981),\n",
       " ('给', 1902),\n",
       " ('只', 1891),\n",
       " ('把', 1879),\n",
       " ('现在', 1877),\n",
       " ('·', 1865),\n",
       " ('地', 1853),\n",
       " ('于', 1841),\n",
       " ('成为', 1841),\n",
       " ('一些', 1839),\n",
       " ('玩家', 1822),\n",
       " ('新浪', 1818),\n",
       " ('同时', 1803),\n",
       " ('6', 1796),\n",
       " ('?', 1794),\n",
       " ('还是', 1785),\n",
       " ('出现', 1757),\n",
       " ('其', 1745),\n",
       " ('设计', 1744),\n",
       " ('可能', 1726),\n",
       " ('这样', 1722),\n",
       " ('经济', 1698),\n",
       " ('开始', 1678),\n",
       " ('8', 1662),\n",
       " ('今年', 1662),\n",
       " ('of', 1651),\n",
       " ('房地产', 1649),\n",
       " ('游戏', 1647),\n",
       " ('比赛', 1641),\n",
       " ('大家', 1631),\n",
       " ('因为', 1621),\n",
       " ('认为', 1618),\n",
       " ('但是', 1608),\n",
       " ('着', 1607),\n",
       " ('情况', 1602),\n",
       " ('需要', 1568),\n",
       " ('…', 1567),\n",
       " ('对于', 1565),\n",
       " ('很多', 1564),\n",
       " ('方面', 1563),\n",
       " ('通过', 1553),\n",
       " ('非常', 1550),\n",
       " ('考生', 1539),\n",
       " ('以及', 1534),\n",
       " ('2009', 1527),\n",
       " ('四六级', 1515),\n",
       " ('品牌', 1483),\n",
       " ('及', 1482),\n",
       " ('2008', 1470),\n",
       " ('万', 1458),\n",
       " ('或', 1436),\n",
       " ('用', 1424),\n",
       " ('选择', 1397),\n",
       " ('这些', 1384),\n",
       " ('消费者', 1380),\n",
       " ('获得', 1373),\n",
       " ('使用', 1363),\n",
       " ('信息', 1360),\n",
       " ('高', 1353),\n",
       " ('价格', 1353),\n",
       " ('不是', 1352),\n",
       " ('时候', 1347),\n",
       " ('9', 1345),\n",
       " ('去', 1340),\n",
       " ('作为', 1339),\n",
       " ('前', 1332),\n",
       " ('电影', 1327),\n",
       " ('工作', 1322),\n",
       " ('由', 1318),\n",
       " ('a', 1317),\n",
       " ('它', 1316),\n",
       " ('她', 1314),\n",
       " ('已', 1299),\n",
       " ('们', 1299),\n",
       " ('12', 1299),\n",
       " ('该', 1295),\n",
       " ('再', 1292),\n",
       " ('一定', 1283),\n",
       " ('所以', 1277),\n",
       " (':', 1273),\n",
       " ('其中', 1267),\n",
       " ('功能', 1265),\n",
       " ('主要', 1262),\n",
       " ('表现', 1254),\n",
       " ('所', 1254),\n",
       " ('7', 1247),\n",
       " ('小', 1243),\n",
       " ('提供', 1236),\n",
       " ('则', 1234),\n",
       " ('却', 1230),\n",
       " ('里', 1223),\n",
       " ('之后', 1218),\n",
       " ('比较', 1216),\n",
       " ('能力', 1197),\n",
       " ('看', 1190),\n",
       " ('什么', 1183),\n",
       " ('还有', 1181),\n",
       " ('拍摄', 1176),\n",
       " ('重要', 1174),\n",
       " ('项目', 1170),\n",
       " ('达到', 1157),\n",
       " ('出', 1146),\n",
       " ('得', 1142),\n",
       " ('支持', 1140),\n",
       " ('过', 1134),\n",
       " ('部分', 1132),\n",
       " ('由于', 1128),\n",
       " ('据', 1121),\n",
       " ('and', 1119),\n",
       " ('搭配', 1113),\n",
       " ('英语', 1102),\n",
       " ('虽然', 1100),\n",
       " ('家居', 1090),\n",
       " ('家具', 1090),\n",
       " ('股票', 1089),\n",
       " ('20', 1088),\n",
       " ('采用', 1084),\n",
       " ('想', 1076),\n",
       " ('能够', 1073),\n",
       " ('影响', 1069),\n",
       " ('不过', 1067),\n",
       " ('去年', 1066),\n",
       " ('不同', 1062),\n",
       " ('向', 1059),\n",
       " ('不会', 1057),\n",
       " ('比', 1054),\n",
       " ('生活', 1047),\n",
       " ('亿元', 1047),\n",
       " ('管理', 1045),\n",
       " ('希望', 1040),\n",
       " ('in', 1039),\n",
       " ('[', 1037),\n",
       " (']', 1037),\n",
       " ('包括', 1036),\n",
       " ('应该', 1034),\n",
       " ('显示', 1029),\n",
       " ('最后', 1025),\n",
       " ('以上', 1020),\n",
       " ('这种', 1003),\n",
       " ('得到', 1002),\n",
       " ('进入', 1001),\n",
       " ('国家', 1001),\n",
       " ('要求', 1000),\n",
       " ('拥有', 1000),\n",
       " ('根据', 992),\n",
       " ('内', 988),\n",
       " ('阅读', 982),\n",
       " ('特别', 976),\n",
       " ('一直', 974),\n",
       " ('才', 968),\n",
       " ('机会', 967),\n",
       " ('今天', 967),\n",
       " ('分红', 961),\n",
       " ('增长', 959),\n",
       " ('球队', 958),\n",
       " ('四级', 955),\n",
       " ('装修', 954),\n",
       " ('不能', 951),\n",
       " ('销售', 950),\n",
       " ('因此', 945),\n",
       " ('全国', 944),\n",
       " ('所有', 935),\n",
       " ('之', 934),\n",
       " ('11', 932),\n",
       " ('国际', 927),\n",
       " ('is', 923),\n",
       " ('较', 922),\n",
       " ('关注', 916),\n",
       " ('方式', 912),\n",
       " ('而且', 905),\n",
       " ('橱柜', 904),\n",
       " ('时尚', 899),\n",
       " ('像素', 896),\n",
       " ('您', 894),\n",
       " ('公布', 893),\n",
       " ('超过', 891),\n",
       " ('增加', 889),\n",
       " ('美国', 884),\n",
       " ('调整', 883),\n",
       " ('系统', 880),\n",
       " ('其他', 878),\n",
       " ('热火', 873),\n",
       " ('手机', 870),\n",
       " ('城市', 866),\n",
       " ('平米', 865),\n",
       " ('15', 858),\n",
       " ('了解', 854),\n",
       " ('只有', 852),\n",
       " ('房价', 850),\n",
       " ('世界', 849),\n",
       " ('点', 849),\n",
       " ('30', 846),\n",
       " ('数据', 844),\n",
       " ('次', 844),\n",
       " ('论坛', 844),\n",
       " ('至', 839),\n",
       " ('相关', 838),\n",
       " ('为了', 835),\n",
       " ('具有', 833),\n",
       " ('吧', 831),\n",
       " ('如何', 831),\n",
       " ('影片', 829),\n",
       " ('带来', 828),\n",
       " ('经理', 826),\n",
       " ('发现', 825),\n",
       " ('六级', 824),\n",
       " ('不断', 823),\n",
       " ('那', 819),\n",
       " ('请', 819),\n",
       " ('提高', 815),\n",
       " ('继续', 809),\n",
       " ('型基金', 807),\n",
       " ('A', 806),\n",
       " ('家', 803),\n",
       " ('一次', 801),\n",
       " ('那么', 798),\n",
       " ('政策', 797),\n",
       " ('呢', 795),\n",
       " ('政府', 795),\n",
       " ('内容', 793),\n",
       " ('基本', 792),\n",
       " ('媒体', 781),\n",
       " ('答案', 781),\n",
       " ('知道', 775),\n",
       " ('最大', 775),\n",
       " ('打', 771),\n",
       " ('收益', 765),\n",
       " ('风格', 762),\n",
       " ('觉得', 761),\n",
       " ('来说', 756),\n",
       " ('上涨', 755),\n",
       " ('当', 754),\n",
       " ('或者', 752),\n",
       " ('一种', 752),\n",
       " ('推出', 752),\n",
       " ('文章', 750),\n",
       " ('看到', 749),\n",
       " ('效果', 749),\n",
       " ('最终', 748),\n",
       " ('更加', 745),\n",
       " ('地方', 744),\n",
       " ('参加', 739),\n",
       " ('甚至', 739),\n",
       " ('过程', 738),\n",
       " ('服务', 737),\n",
       " ('球员', 731),\n",
       " ('使', 730),\n",
       " ('一样', 730),\n",
       " ('未来', 729),\n",
       " ('机构', 726),\n",
       " ('这是', 725),\n",
       " ('国内', 725),\n",
       " ('均', 721),\n",
       " ('社会', 721),\n",
       " ('实现', 720),\n",
       " ('各', 720),\n",
       " ('整体', 720),\n",
       " ('业绩', 713),\n",
       " ('是否', 712),\n",
       " ('另外', 710),\n",
       " ('原因', 707),\n",
       " ('中心', 706),\n",
       " ('以来', 705),\n",
       " ('投资者', 704),\n",
       " ('分别', 703),\n",
       " ('必须', 702),\n",
       " ('需求', 702),\n",
       " ('除了', 699),\n",
       " ('开发商', 699),\n",
       " ('2010', 698),\n",
       " ('报道', 697),\n",
       " ('湖人', 695),\n",
       " ('户型', 695),\n",
       " ('约', 692),\n",
       " ('完成', 690),\n",
       " ('台湾', 686),\n",
       " ('听力', 684),\n",
       " ('像', 683),\n",
       " ('图', 683),\n",
       " ('不少', 678),\n",
       " ('两个', 677),\n",
       " ('变化', 677),\n",
       " ('模式', 675),\n",
       " ('规模', 675),\n",
       " ('第一', 671),\n",
       " ('防守', 668),\n",
       " ('优势', 668),\n",
       " ('that', 667),\n",
       " ('建设', 664),\n",
       " ('任务', 659),\n",
       " ('整个', 655),\n",
       " ('18', 655),\n",
       " ('有效', 655),\n",
       " ('经验', 654),\n",
       " ('最佳', 652),\n",
       " ('其实', 652),\n",
       " ('提升', 651),\n",
       " ('一般', 650),\n",
       " ('题', 650),\n",
       " ('倍', 649),\n",
       " ('有关', 643),\n",
       " ('没', 642),\n",
       " ('朋友', 641),\n",
       " ('建议', 641),\n",
       " ('季后赛', 637),\n",
       " ('地产', 637),\n",
       " ('第', 635),\n",
       " ('秒', 634),\n",
       " ('感觉', 634),\n",
       " ('跟', 633),\n",
       " ('之前', 632),\n",
       " ('技术', 631),\n",
       " ('合作', 631),\n",
       " ('只是', 630),\n",
       " ('导演', 630),\n",
       " ('詹姆斯', 629),\n",
       " ('正式', 629),\n",
       " ('+', 629),\n",
       " ('来看', 629),\n",
       " ('级', 628),\n",
       " ('这次', 626),\n",
       " ('仍', 625),\n",
       " ('曾', 624),\n",
       " ('大学', 623),\n",
       " ('镜头', 622),\n",
       " ('明显', 619),\n",
       " ('2007', 618),\n",
       " ('万元', 618),\n",
       " ('购买', 618),\n",
       " ('配置', 617),\n",
       " ('快速', 616),\n",
       " ('随着', 615),\n",
       " ('OL', 613),\n",
       " ('一季度', 611),\n",
       " ('仓位', 610),\n",
       " ('月份', 608),\n",
       " ('造成', 607),\n",
       " ('如', 606),\n",
       " ('空间', 604),\n",
       " ('生产', 603),\n",
       " ('分析', 602),\n",
       " ('学生', 602),\n",
       " ('上海', 601),\n",
       " ('全球', 601),\n",
       " ('结束', 598),\n",
       " ('消息', 597),\n",
       " ('准备', 596),\n",
       " ('环境', 596),\n",
       " ('资金', 593),\n",
       " ('接受', 590),\n",
       " ('×', 590),\n",
       " ('标准', 590),\n",
       " ('组图', 590),\n",
       " ('【', 589),\n",
       " ('】', 589),\n",
       " ('地板', 588),\n",
       " ('之间', 587),\n",
       " ('一下', 585),\n",
       " ('机身', 583),\n",
       " ('奖励', 582),\n",
       " ('装饰', 581),\n",
       " ('旗下', 580),\n",
       " ('成功', 579),\n",
       " ('16', 579),\n",
       " ('I', 579),\n",
       " ('喜欢', 578),\n",
       " ('介绍', 577),\n",
       " ('保持', 575),\n",
       " ('进攻', 573),\n",
       " ('比例', 573),\n",
       " ('成立', 573),\n",
       " ('存在', 572),\n",
       " ('土地', 571),\n",
       " ('稳定', 570),\n",
       " ('B', 570),\n",
       " ('单词', 569),\n",
       " ('发生', 568),\n",
       " ('参与', 568),\n",
       " ('买', 564),\n",
       " ('装备', 563),\n",
       " ('篮板', 562),\n",
       " ('完全', 561),\n",
       " ('编辑', 561),\n",
       " ('称', 558),\n",
       " ('此外', 558),\n",
       " ('起来', 557),\n",
       " ('穿', 557),\n",
       " ('凯尔特人', 556),\n",
       " ('60', 555),\n",
       " ('娱乐', 555),\n",
       " ('资产', 555),\n",
       " ('关系', 554),\n",
       " ('科比', 553),\n",
       " ('The', 553),\n",
       " ('每', 552),\n",
       " ('佳能', 552),\n",
       " ('直接', 548),\n",
       " ('for', 545),\n",
       " ('主题', 544),\n",
       " ('净值', 543),\n",
       " ('13', 542),\n",
       " ('光学', 542),\n",
       " ('仅', 541),\n",
       " ('英寸', 541),\n",
       " ('投', 540),\n",
       " ('价值', 540),\n",
       " ('you', 539),\n",
       " ('指数', 538),\n",
       " ('很大', 536),\n",
       " ('持续', 536),\n",
       " ('占', 536),\n",
       " ('观点', 534),\n",
       " ('帮助', 533),\n",
       " ('不仅', 533),\n",
       " ('左右', 533),\n",
       " ('期间', 533),\n",
       " ('一起', 531),\n",
       " ('建筑', 531),\n",
       " ('基础', 527),\n",
       " ('女儿国', 527),\n",
       " ('无法', 525),\n",
       " ('决定', 524),\n",
       " ('走', 523),\n",
       " ('集团', 523),\n",
       " ('简单', 522),\n",
       " ('100', 521),\n",
       " ('平均', 521),\n",
       " ('材料', 520),\n",
       " ('即', 519),\n",
       " ('说明', 519),\n",
       " ('讯', 519),\n",
       " ('联盟', 518),\n",
       " ('核心', 517),\n",
       " ('只要', 515),\n",
       " ('开发', 514),\n",
       " ('同样', 513),\n",
       " ('一点', 513),\n",
       " ('研究', 513),\n",
       " ('网游', 513),\n",
       " ('统计', 512),\n",
       " ('有限公司', 512),\n",
       " ('谁', 511),\n",
       " ('评论', 508),\n",
       " ('达', 508),\n",
       " ('当然', 508),\n",
       " ('环保', 508),\n",
       " ('重点', 507),\n",
       " ('韦德', 506),\n",
       " ('出来', 506),\n",
       " ('质量', 506),\n",
       " ('相对', 505),\n",
       " ('考虑', 504),\n",
       " ('人们', 504),\n",
       " ('升级', 504),\n",
       " ('消费', 503),\n",
       " ('最高', 502),\n",
       " ('当时', 502),\n",
       " ('成绩', 500),\n",
       " ('有些', 500),\n",
       " ('领先', 499),\n",
       " ('设计师', 498),\n",
       " ('任何', 497),\n",
       " ('成长', 495)]"
      ]
     },
     "execution_count": 15,
     "metadata": {},
     "output_type": "execute_result"
    }
   ],
   "source": [
    "#第一种\n",
    "tf= Counter(all_words)\n",
    "tf.most_common(500)#显示统计完之后的前500个词\n"
   ]
  },
  {
   "cell_type": "code",
   "execution_count": 22,
   "metadata": {},
   "outputs": [
    {
     "name": "stderr",
     "output_type": "stream",
     "text": [
      "C:\\Users\\lenovo\\Anaconda3\\lib\\site-packages\\ipykernel_launcher.py:3: FutureWarning: using a dict on a Series for aggregation\n",
      "is deprecated and will be removed in a future version\n",
      "  This is separate from the ipykernel package so we can avoid doing imports until\n"
     ]
    },
    {
     "data": {
      "text/html": [
       "<div>\n",
       "<style scoped>\n",
       "    .dataframe tbody tr th:only-of-type {\n",
       "        vertical-align: middle;\n",
       "    }\n",
       "\n",
       "    .dataframe tbody tr th {\n",
       "        vertical-align: top;\n",
       "    }\n",
       "\n",
       "    .dataframe thead th {\n",
       "        text-align: right;\n",
       "    }\n",
       "</style>\n",
       "<table border=\"1\" class=\"dataframe\">\n",
       "  <thead>\n",
       "    <tr style=\"text-align: right;\">\n",
       "      <th></th>\n",
       "      <th>all_words</th>\n",
       "      <th>count</th>\n",
       "    </tr>\n",
       "  </thead>\n",
       "  <tbody>\n",
       "    <tr>\n",
       "      <th>1</th>\n",
       "      <td></td>\n",
       "      <td>84037</td>\n",
       "    </tr>\n",
       "    <tr>\n",
       "      <th>19384</th>\n",
       "      <td></td>\n",
       "      <td>20021</td>\n",
       "    </tr>\n",
       "    <tr>\n",
       "      <th>43670</th>\n",
       "      <td>基金</td>\n",
       "      <td>9828</td>\n",
       "    </tr>\n",
       "    <tr>\n",
       "      <th>19548</th>\n",
       "      <td>一个</td>\n",
       "      <td>4856</td>\n",
       "    </tr>\n",
       "    <tr>\n",
       "      <th>51084</th>\n",
       "      <td>市场</td>\n",
       "      <td>4436</td>\n",
       "    </tr>\n",
       "    <tr>\n",
       "      <th>23421</th>\n",
       "      <td>中国</td>\n",
       "      <td>3948</td>\n",
       "    </tr>\n",
       "    <tr>\n",
       "      <th>17</th>\n",
       "      <td>,</td>\n",
       "      <td>3790</td>\n",
       "    </tr>\n",
       "    <tr>\n",
       "      <th>31295</th>\n",
       "      <td>公司</td>\n",
       "      <td>3304</td>\n",
       "    </tr>\n",
       "    <tr>\n",
       "      <th>27694</th>\n",
       "      <td>企业</td>\n",
       "      <td>2530</td>\n",
       "    </tr>\n",
       "    <tr>\n",
       "      <th>93548</th>\n",
       "      <td>进行</td>\n",
       "      <td>2522</td>\n",
       "    </tr>\n",
       "  </tbody>\n",
       "</table>\n",
       "</div>"
      ],
      "text/plain": [
       "      all_words  count\n",
       "1                84037\n",
       "19384            20021\n",
       "43670        基金   9828\n",
       "19548        一个   4856\n",
       "51084        市场   4436\n",
       "23421        中国   3948\n",
       "17            ,   3790\n",
       "31295        公司   3304\n",
       "27694        企业   2530\n",
       "93548        进行   2522"
      ]
     },
     "execution_count": 22,
     "metadata": {},
     "output_type": "execute_result"
    }
   ],
   "source": [
    "#第二种\n",
    "df_all_words=pd.DataFrame({\"all_words\":all_words})\n",
    "frequen=df_all_words.groupby(by=[\"all_words\"])[\"all_words\"].agg({\"count\":np.size})\n",
    "frequen = frequen.reset_index().sort_values(by=[\"count\"],ascending=False)\n",
    "frequen.head(10)"
   ]
  },
  {
   "cell_type": "markdown",
   "metadata": {},
   "source": [
    "六：绘制词云"
   ]
  },
  {
   "cell_type": "code",
   "execution_count": 16,
   "metadata": {},
   "outputs": [
    {
     "data": {
      "image/png": "[encoded data removed]",
      "text/plain": [
       "<Figure size 432x288 with 1 Axes>"
      ]
     },
     "metadata": {
      "needs_background": "light"
     },
     "output_type": "display_data"
    }
   ],
   "source": [
    "#生成词云\n",
    "font = r'Dengl.ttf'#导入字体\n",
    "wcd= wordcloud.WordCloud(font_path=font,background_color='white',max_words=200, max_font_size=80,random_state=30 )\n",
    "#最大字体的大小\n",
    "#设置最大现实的字数 \n",
    "# 设置有多少种随机生成状态，即有多少种配色方案 \n",
    "wcd.generate_from_frequencies(tf)\n",
    "plt.imshow(wcd) # 显示词云\n",
    "plt.axis('off') # 关闭坐标轴\n",
    "plt.show()"
   ]
  },
  {
   "cell_type": "code",
   "execution_count": 17,
   "metadata": {},
   "outputs": [
    {
     "data": {
      "image/png": "[encoded data removed]",
      "text/plain": [
       "<Figure size 432x288 with 1 Axes>"
      ]
     },
     "metadata": {
      "needs_background": "light"
     },
     "output_type": "display_data"
    },
    {
     "data": {
      "text/plain": [
       "<wordcloud.wordcloud.WordCloud at 0x20fb54b1348>"
      ]
     },
     "execution_count": 17,
     "metadata": {},
     "output_type": "execute_result"
    }
   ],
   "source": [
    "#导入背景图片后的词云\n",
    "mask = imread('4.png')#读入图片\n",
    "wc= wordcloud.WordCloud(font_path=font,mask=mask,background_color='white',scale=2)\n",
    "#scale : 按照比例进行放大画布，如设置为2，则长和宽都是原来画布的2倍。\n",
    "wc.generate_from_frequencies(tf)\n",
    "plt.imshow(wc) # 显示词云\n",
    "plt.axis('off') # 关闭坐标轴\n",
    "plt.show()\n",
    "wc.to_file('ciyun.jpg')#保存词云"
   ]
  },
  {
   "cell_type": "markdown",
   "metadata": {},
   "source": [
    "七：基于TF-IDF的关键词提取"
   ]
  },
  {
   "cell_type": "code",
   "execution_count": 25,
   "metadata": {
    "scrolled": true
   },
   "outputs": [
    {
     "name": "stdout",
     "output_type": "stream",
     "text": [
      "1人灭掘金！神般杜兰特！ 他想要分的时候没人能挡新浪体育讯在NBA的世界里，真的猛男，敢于直面惨淡的手感，敢于正视落后的局面，然后用一己之力，力挽狂澜，点燃球迷激情，最后微微一笑，带领球队在季后赛的战场上赢下比赛，并进入下一轮，今日雷霆凯文-杜兰特所做的，无非就是这样的事情。巨星这个东西很难定义，有时候你就是30分30板也未必能得到一个巨星名头，反而会有可能会被称为刷子，而巨星不仅是数据上能够出类拔萃，也不仅仅是能够帮助球队赢球，从意志力层面上来讲，母队比赛快输了，队友的腿都开始抖了，所有人都在看着你，球都到了你手中，此时你上去扶大厦于将倾，这，才是真巨星范儿。而今天的比赛中，杜兰特的手感其实并不好，他在全场比赛还剩下5分31秒之前，只有19投8中，雷霆也以80-87落后掘金7分之多，而在剩下的比赛中，他一人8投6中，其中包括一个三分球，再加上3次罚球，狂砍16分，最终雷霆也在主场以100-97战胜对手，昂首晋级次轮，而且，在终场前9秒，是杜兰特亲手封盖了J.R.-史密斯的三分出手，也亲手送掘金回家钓鱼。而且，在雷霆最后5分31秒内这波20-10的进攻高潮中，除了拉塞尔-威斯布鲁克造犯规2罚1中得1分以外，还有16分为杜兰特自己所得，剩下的那个詹姆斯-哈登的三分球，也来自于杜兰特的助攻！也就是说，除了1分，杜兰特几乎包办了雷霆最后时刻的所有进攻，也等于是杜兰特一个人，就决定了这场比赛，也决定了整个系列赛！少年是最锋利的刀，没有谁比年仅23岁的连续两届得分王杜兰特更想在季后赛里证明自己了！在常规赛MVP的评选中，所有人都在谈论德里克-罗斯的进步，间或有人认为勒布朗-詹姆斯也相当不错，但是几乎没有人会想到杜兰特，没有人会想到这个将去年才勉强西部第八晋级季后赛的球队带到今年首轮便获得主场优势的少年，所有人都被他的得分王的表象所迷惑，很难看清楚他究竟对目前这支雷霆队有着怎样的MVP级别的影响力。甚至有人说过，雷霆今年的进步之大，与威斯布鲁克的成长之快有很大的联系，谁是雷霆真领袖尚未可知。那么我们来看看本场比赛之中威斯布鲁克干了些什么吧，在杜兰特接管比赛之前，威斯布鲁克的手感状态也不很好，但是球队也给了他决定比赛走向的机会。第四节威少登场的时候，雷霆以76-83同样落后7分，威少一击三分球，全场球迷也登时沸腾了起来。但是在后面的几次进攻中，威少也想展示巨星风采，但是他失败了，他贡献给球队的是一次跳投不中，一次三分不中。而连续两次进攻不中之后，分差再度被拉开到7分，此后便有了杜兰特的那一段经典的个人独秀。然而当杜兰特投中独秀中第一个中投时，威少认为球队依然由他掌控，便又一次尝试了单打，结果依然是不中，而后他甚至在一次上篮中被威尔森-钱德勒赏了一击大帽。自这以后，威少除了一次造犯规以外，便再也没有敢自己单干，因为，包括他在内，所有雷霆队员，都已经成为了杜兰特的观众。此一役之后，杜兰特和威少的球队地位以及终结能力高下立判，而杜兰特是一个沉静且善于团结队友的人，用场上实力令威少信服的他，在接下来的比赛中，应该能带着这支青年军走得更远。(三儿)\n",
      "关键词：\n",
      "杜兰特 雷霆 威少 比赛 球队 斯布鲁克 巨星 季后赛 三分球 手感\n"
     ]
    }
   ],
   "source": [
    "import jieba.analyse\n",
    "index = 2 #文档中的第二篇新闻文本\n",
    "# 词之间相连\n",
    "content_S_str = \"\".join(content_clean[index])\n",
    "print(content_list[index])\n",
    "print('关键词：')\n",
    "print(\" \".join(jieba.analyse.extract_tags(content_S_str, topK=10, withWeight=False)))\n"
   ]
  },
  {
   "cell_type": "markdown",
   "metadata": {},
   "source": [
    "八：语音播报"
   ]
  },
  {
   "cell_type": "code",
   "execution_count": 26,
   "metadata": {},
   "outputs": [
    {
     "name": "stdout",
     "output_type": "stream",
     "text": [
      "准备语音播报.....\n"
     ]
    }
   ],
   "source": [
    "import pyttsx3\n",
    "voice=pyttsx3.init()\n",
    "voice.say(\" \".join(jieba.analyse.extract_tags(content_S_str, topK=6, withWeight=False)))\n",
    "print(\"准备语音播报.....\")\n",
    "voice.runAndWait()"
   ]
  },
  {
   "cell_type": "markdown",
   "metadata": {},
   "source": [
    "九：LDA主题模型"
   ]
  },
  {
   "cell_type": "code",
   "execution_count": 27,
   "metadata": {},
   "outputs": [
    {
     "name": "stdout",
     "output_type": "stream",
     "text": [
      "词典特征数：101880\n",
      "-----------\n",
      "0.034*\"考试\" + 0.017*\"四六级\" + 0.012*\"英语\" + 0.012*\"考生\" + 0.009*\"六级\"\n",
      "0.033*\" \" + 0.010*\"·\" + 0.008*\"电影\" + 0.005*\"平米\" + 0.005*\"影片\"\n",
      "0.019*\"品牌\" + 0.017*\"产品\" + 0.017*\"消费者\" + 0.016*\"家居\" + 0.014*\"橱柜\"\n",
      "0.015*\"一个\" + 0.009*\"做\" + 0.006*\"好\" + 0.006*\"如果\" + 0.006*\"很多\"\n",
      "0.065*\"基金\" + 0.012*\"公司\" + 0.010*\"投资\" + 0.010*\"市场\" + 0.007*\"股票\"\n",
      "0.156*\" \" + 0.029*\" \" + 0.007*\"搭配\" + 0.006*\"设计\" + 0.006*\"时尚\"\n",
      "0.010*\"中国\" + 0.007*\"发展\" + 0.007*\"市场\" + 0.006*\"企业\" + 0.005*\"经济\"\n",
      "0.008*\"比赛\" + 0.006*\"他们\" + 0.004*\"球队\" + 0.004*\"一个\" + 0.004*\"热火\"\n",
      "0.024*\" \" + 0.008*\"拍摄\" + 0.008*\"像素\" + 0.008*\"功能\" + 0.007*\"元\"\n",
      "0.348*\" \" + 0.017*\",\" + 0.008*\"of\" + 0.005*\"考生\" + 0.005*\"is\"\n"
     ]
    }
   ],
   "source": [
    "def create_LDA(content_clean):\n",
    "#基于文本集建立【词典】，并获得词典特征数\n",
    "    dictionary = corpora.Dictionary(content_clean)\n",
    "    #基于词典，将【分词列表集】转换成【稀疏向量集】，称作【语料库】\n",
    "    dic = len(dictionary.token2id)\n",
    "    print('词典特征数：%d' % dic)\n",
    "    corpus = [dictionary.doc2bow(sentence) for sentence in content_clean]\n",
    "    lda = gensim.models.LdaModel(corpus=corpus, id2word = dictionary,num_topics = 10,passes=10)\n",
    "    #passes 训练几轮\n",
    "    print('-----------')\n",
    "    for topic in lda.print_topics(num_topics=10, num_words = 5):\n",
    "        print(topic[1])\n",
    "create_LDA(content_clean)\n"
   ]
  },
  {
   "cell_type": "markdown",
   "metadata": {},
   "source": [
    "十：贝叶斯分类模型两种"
   ]
  },
  {
   "cell_type": "code",
   "execution_count": 28,
   "metadata": {},
   "outputs": [],
   "source": [
    "#创建字典,X为内容， y为种类\n",
    "df_train = pd.DataFrame({\"content\":content_fenci ,\"label\":df_news['category']})\n",
    "#为了方便计算,把对应的label字符类型转换为数字\n",
    "#映射类型(mapping)\n",
    "#非空字典\n",
    "label_mapping = {\"体育\": 0, \"娱乐\": 1, \"家居\": 2, \"房产\": 3, \"教育\":4, \"时尚\": 5,\"时政\": 6,\"游戏\": 7,\"科技\": 8,\"财经\": 9}\n",
    "df_train['label'] = df_train['label'].map(label_mapping)\n",
    "#df_train.head()\n",
    "#之后将每个新闻信息转换成字符串形式。因为CountVectorizer 和 TfidfVectorizer的输入为字符串形式。\n",
    "def create_words(data):\n",
    "    words = []\n",
    "    for index in range(len(data)):\n",
    "        try:\n",
    "            words.append( ' '.join(data[index]))\n",
    "        except Exception:\n",
    "            print(index)\n",
    "    return words\n",
    "\n",
    "#把数据分成测试集和训练集\n",
    "x_train,x_test,y_train,y_test = train_test_split(df_train['content'].values,df_train['label'].values,random_state=0)    \n",
    "#没有设置 random.seed()，每次取得的结果就不一样，\n",
    "\n",
    "train_words = create_words(x_train)\n",
    "test_words = create_words(x_test)"
   ]
  },
  {
   "cell_type": "code",
   "execution_count": 32,
   "metadata": {},
   "outputs": [
    {
     "name": "stdout",
     "output_type": "stream",
     "text": [
      "训练集准确率: 0.9704\n"
     ]
    }
   ],
   "source": [
    "#第一种\n",
    "#CountVectorizer是属于常见的特征数值计算类，是一个文本特征提取方法。\n",
    "#对于每一个训练文本，它只考虑每种词汇在该训练文本中出现的频率。\n",
    "vec = CountVectorizer(analyzer = 'word',max_features=4000,lowercase=False)\n",
    "#max_feature表示的是最大的特征数\n",
    "vec.fit(train_words)\n",
    "#拟合模型，并返回文本矩阵\n",
    "classifier = MultinomialNB()#多项式朴素贝叶斯\n",
    "classifier.fit(vec.transform(train_words),y_train)\n",
    "print(\"训练集准确率:\",classifier.score(vec.transform(test_words), y_test))\n"
   ]
  },
  {
   "cell_type": "code",
   "execution_count": 30,
   "metadata": {},
   "outputs": [
    {
     "name": "stdout",
     "output_type": "stream",
     "text": [
      "模型准确率为: 0.976\n"
     ]
    }
   ],
   "source": [
    "#第二种\n",
    "#而TfidfVectorizer除了考量某一词汇在当前训练文本中出现的频率之外，\n",
    "#同时关注包含这个词汇的其它训练文本数目的倒\n",
    "vectorizer = TfidfVectorizer(analyzer='word',max_features = 40000,lowercase=False)\n",
    "vectorizer.fit(train_words)\n",
    "classifier = MultinomialNB()\n",
    "classifier.fit(vectorizer.transform(train_words),y_train)#学习\n",
    "print(\"模型准确率为:\",classifier.score(vectorizer.transform(test_words), y_test))\n"
   ]
  },
  {
   "cell_type": "code",
   "execution_count": null,
   "metadata": {},
   "outputs": [],
   "source": []
  }
 ],
 "metadata": {
  "kernelspec": {
   "display_name": "Python 3 (ipykernel)",
   "language": "python",
   "name": "python3"
  },
  "language_info": {
   "codemirror_mode": {
    "name": "ipython",
    "version": 3
   },
   "file_extension": ".py",
   "mimetype": "text/x-python",
   "name": "python",
   "nbconvert_exporter": "python",
   "pygments_lexer": "ipython3",
   "version": "3.9.12"
  }
 },
 "nbformat": 4,
 "nbformat_minor": 2
}
