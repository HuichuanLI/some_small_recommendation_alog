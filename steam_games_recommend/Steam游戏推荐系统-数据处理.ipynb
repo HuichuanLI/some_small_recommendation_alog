{
 "cells": [
  {
   "cell_type": "code",
   "execution_count": 1,
   "metadata": {},
   "outputs": [
    {
     "name": "stdout",
     "output_type": "stream",
     "text": [
      "WARNING:tensorflow:From /Users/lhc456/opt/anaconda3/lib/python3.9/site-packages/tensorflow/python/compat/v2_compat.py:96: disable_resource_variables (from tensorflow.python.ops.variable_scope) is deprecated and will be removed in a future version.\n",
      "Instructions for updating:\n",
      "non-resource variables are not supported in the long term\n"
     ]
    }
   ],
   "source": [
    "import numpy as np\n",
    "import pandas as pd\n",
    "import tensorflow.compat.v1 as tf\n",
    "tf.disable_v2_behavior()\n",
    "import random\n",
    "from collections import Counter\n",
    "from sklearn.metrics import roc_curve, auc, average_precision_score\n",
    "import joblib"
   ]
  },
  {
   "cell_type": "code",
   "execution_count": 2,
   "metadata": {},
   "outputs": [
    {
     "data": {
      "text/html": [
       "<div>\n",
       "<style scoped>\n",
       "    .dataframe tbody tr th:only-of-type {\n",
       "        vertical-align: middle;\n",
       "    }\n",
       "\n",
       "    .dataframe tbody tr th {\n",
       "        vertical-align: top;\n",
       "    }\n",
       "\n",
       "    .dataframe thead th {\n",
       "        text-align: right;\n",
       "    }\n",
       "</style>\n",
       "<table border=\"1\" class=\"dataframe\">\n",
       "  <thead>\n",
       "    <tr style=\"text-align: right;\">\n",
       "      <th></th>\n",
       "      <th>UserID</th>\n",
       "      <th>Game</th>\n",
       "      <th>Action</th>\n",
       "      <th>Hours</th>\n",
       "      <th>Not Needed</th>\n",
       "    </tr>\n",
       "  </thead>\n",
       "  <tbody>\n",
       "    <tr>\n",
       "      <th>0</th>\n",
       "      <td>151603712</td>\n",
       "      <td>The Elder Scrolls V Skyrim</td>\n",
       "      <td>purchase</td>\n",
       "      <td>1.0</td>\n",
       "      <td>0</td>\n",
       "    </tr>\n",
       "    <tr>\n",
       "      <th>1</th>\n",
       "      <td>151603712</td>\n",
       "      <td>The Elder Scrolls V Skyrim</td>\n",
       "      <td>play</td>\n",
       "      <td>273.0</td>\n",
       "      <td>0</td>\n",
       "    </tr>\n",
       "    <tr>\n",
       "      <th>2</th>\n",
       "      <td>151603712</td>\n",
       "      <td>Fallout 4</td>\n",
       "      <td>purchase</td>\n",
       "      <td>1.0</td>\n",
       "      <td>0</td>\n",
       "    </tr>\n",
       "    <tr>\n",
       "      <th>3</th>\n",
       "      <td>151603712</td>\n",
       "      <td>Fallout 4</td>\n",
       "      <td>play</td>\n",
       "      <td>87.0</td>\n",
       "      <td>0</td>\n",
       "    </tr>\n",
       "    <tr>\n",
       "      <th>4</th>\n",
       "      <td>151603712</td>\n",
       "      <td>Spore</td>\n",
       "      <td>purchase</td>\n",
       "      <td>1.0</td>\n",
       "      <td>0</td>\n",
       "    </tr>\n",
       "  </tbody>\n",
       "</table>\n",
       "</div>"
      ],
      "text/plain": [
       "      UserID                        Game    Action  Hours  Not Needed\n",
       "0  151603712  The Elder Scrolls V Skyrim  purchase    1.0           0\n",
       "1  151603712  The Elder Scrolls V Skyrim      play  273.0           0\n",
       "2  151603712                   Fallout 4  purchase    1.0           0\n",
       "3  151603712                   Fallout 4      play   87.0           0\n",
       "4  151603712                       Spore  purchase    1.0           0"
      ]
     },
     "execution_count": 2,
     "metadata": {},
     "output_type": "execute_result"
    }
   ],
   "source": [
    "# 导入数据集并列表显示\n",
    "path = './steam-video-games/steam-200k.csv'\n",
    "df = pd.read_csv(path, header = None, names = ['UserID', 'Game', 'Action', 'Hours', 'Not Needed'])\n",
    "df.head()"
   ]
  },
  {
   "cell_type": "code",
   "execution_count": 3,
   "metadata": {},
   "outputs": [
    {
     "data": {
      "text/html": [
       "<div>\n",
       "<style scoped>\n",
       "    .dataframe tbody tr th:only-of-type {\n",
       "        vertical-align: middle;\n",
       "    }\n",
       "\n",
       "    .dataframe tbody tr th {\n",
       "        vertical-align: top;\n",
       "    }\n",
       "\n",
       "    .dataframe thead th {\n",
       "        text-align: right;\n",
       "    }\n",
       "</style>\n",
       "<table border=\"1\" class=\"dataframe\">\n",
       "  <thead>\n",
       "    <tr style=\"text-align: right;\">\n",
       "      <th></th>\n",
       "      <th>UserID</th>\n",
       "      <th>Game</th>\n",
       "      <th>Hours_Played</th>\n",
       "    </tr>\n",
       "  </thead>\n",
       "  <tbody>\n",
       "    <tr>\n",
       "      <th>65430</th>\n",
       "      <td>5250</td>\n",
       "      <td>Alien Swarm</td>\n",
       "      <td>4.9</td>\n",
       "    </tr>\n",
       "    <tr>\n",
       "      <th>65424</th>\n",
       "      <td>5250</td>\n",
       "      <td>Cities Skylines</td>\n",
       "      <td>144.0</td>\n",
       "    </tr>\n",
       "    <tr>\n",
       "      <th>65435</th>\n",
       "      <td>5250</td>\n",
       "      <td>Counter-Strike</td>\n",
       "      <td>0.0</td>\n",
       "    </tr>\n",
       "    <tr>\n",
       "      <th>65436</th>\n",
       "      <td>5250</td>\n",
       "      <td>Counter-Strike Source</td>\n",
       "      <td>0.0</td>\n",
       "    </tr>\n",
       "    <tr>\n",
       "      <th>65437</th>\n",
       "      <td>5250</td>\n",
       "      <td>Day of Defeat</td>\n",
       "      <td>0.0</td>\n",
       "    </tr>\n",
       "  </tbody>\n",
       "</table>\n",
       "</div>"
      ],
      "text/plain": [
       "       UserID                   Game  Hours_Played\n",
       "65430    5250            Alien Swarm           4.9\n",
       "65424    5250        Cities Skylines         144.0\n",
       "65435    5250         Counter-Strike           0.0\n",
       "65436    5250  Counter-Strike Source           0.0\n",
       "65437    5250          Day of Defeat           0.0"
      ]
     },
     "execution_count": 3,
     "metadata": {},
     "output_type": "execute_result"
    }
   ],
   "source": [
    "# 从购买记录和游玩记录中筛选出游戏时长\n",
    "df['Hours_Played'] = df['Hours'].astype('float32')\n",
    "df.loc[(df['Action'] == 'purchase') & (df['Hours'] == 1.0), 'Hours_Played'] = 0\n",
    "\n",
    "# 排序\n",
    "df.UserID = df.UserID.astype('int')\n",
    "df = df.sort_values(['UserID', 'Game', 'Hours_Played'])\n",
    "\n",
    "# 整理为新的表格clean_df\n",
    "clean_df = df.drop_duplicates(['UserID', 'Game'], keep = 'last').drop(['Action', 'Hours', 'Not Needed'], axis = 1)\n",
    "clean_df.head()"
   ]
  },
  {
   "cell_type": "code",
   "execution_count": 4,
   "metadata": {},
   "outputs": [
    {
     "name": "stdout",
     "output_type": "stream",
     "text": [
      "用户-游戏数据集中一共有12393个用户，5155个游戏\n"
     ]
    }
   ],
   "source": [
    "n_users = len(clean_df.UserID.unique())\n",
    "n_games = len(clean_df.Game.unique())\n",
    "print('用户-游戏数据集中一共有{0}个用户，{1}个游戏'.format(n_users, n_games))"
   ]
  },
  {
   "cell_type": "code",
   "execution_count": 5,
   "metadata": {},
   "outputs": [
    {
     "name": "stdout",
     "output_type": "stream",
     "text": [
      "用户-游戏矩阵中有效数据占比为：0.20%\n"
     ]
    }
   ],
   "source": [
    "# 计算矩阵的稀疏程度\n",
    "sparsity = clean_df.shape[0] / float(n_users * n_games)\n",
    "print('用户-游戏矩阵中有效数据占比为：{:.2%}'.format(sparsity))"
   ]
  },
  {
   "cell_type": "code",
   "execution_count": 6,
   "metadata": {},
   "outputs": [
    {
     "data": {
      "text/plain": [
       "['./Save_data/game2idx.pkl']"
      ]
     },
     "execution_count": 6,
     "metadata": {},
     "output_type": "execute_result"
    }
   ],
   "source": [
    "# 建立序列化的id方便使用\n",
    "\n",
    "# 用户id到用户序列化id的字典\n",
    "user2idx = {user: i for i, user in enumerate(clean_df.UserID.unique())}\n",
    "# 用户序列化id到用户id的字典\n",
    "idx2user = {i: user for user, i in user2idx.items()}\n",
    "\n",
    "# 游戏名到游戏序列化id的字典\n",
    "game2idx = {game: i for i, game in enumerate(clean_df.Game.unique())}\n",
    "# 游戏序列化id到游戏名的字典\n",
    "idx2game = {i: game for game, i in game2idx.items()}\n",
    "\n",
    "# 将字典保存，用于PyQt5中\n",
    "joblib.dump(idx2game, './Save_data/idx2game.pkl')\n",
    "joblib.dump(game2idx, './Save_data/game2idx.pkl')"
   ]
  },
  {
   "cell_type": "code",
   "execution_count": 7,
   "metadata": {},
   "outputs": [
    {
     "data": {
      "text/plain": [
       "['./Save_data/hours.pkl']"
      ]
     },
     "execution_count": 7,
     "metadata": {},
     "output_type": "execute_result"
    }
   ],
   "source": [
    "# 用户序列化id-游戏序列化id-游戏时长\n",
    "user_idx = clean_df['UserID'].apply(lambda x: user2idx[x]).values\n",
    "game_idx = clean_df['gamesIdx'] = clean_df['Game'].apply(lambda x:game2idx[x]).values\n",
    "hours = clean_df['Hours_Played'].values\n",
    "# 保存游戏时长矩阵\n",
    "hours_save = np.zeros(shape = (n_users, n_games))\n",
    "for i in range(len(user_idx)):\n",
    "    hours_save[user_idx[i], game_idx[i]] = hours[i]\n",
    "joblib.dump(hours_save, './Save_data/hours.pkl')"
   ]
  },
  {
   "cell_type": "markdown",
   "metadata": {},
   "source": [
    "## 建立用户-游戏评分矩阵"
   ]
  },
  {
   "cell_type": "code",
   "execution_count": 8,
   "metadata": {},
   "outputs": [],
   "source": [
    "# 建立稀疏矩阵存储大数据集\n",
    "# \n",
    "# 购买矩阵:\n",
    "# 未购买标识为0\n",
    "# 购买标识为1\n",
    "# \n",
    "# 置信度矩阵：\n",
    "# 根据游戏时长提高置信度，最低为1\n",
    "\n",
    "zero_matrix = np.zeros(shape = (n_users, n_games))\n",
    "# 购买矩阵\n",
    "user_game_pref = zero_matrix.copy()\n",
    "user_game_pref[user_idx, game_idx] = 1\n",
    "# 保存购买矩阵\n",
    "joblib.dump(user_game_pref, './Save_data/buy.pkl')\n",
    "# 置信度矩阵\n",
    "user_game_interactions = zero_matrix.copy()\n",
    "user_game_interactions[user_idx, game_idx] = hours + 1"
   ]
  },
  {
   "cell_type": "markdown",
   "metadata": {},
   "source": [
    "## 验证"
   ]
  },
  {
   "cell_type": "code",
   "execution_count": 9,
   "metadata": {},
   "outputs": [
    {
     "name": "stdout",
     "output_type": "stream",
     "text": [
      "2189名玩家购买了至少10款游戏\n"
     ]
    },
    {
     "data": {
      "text/plain": [
       "['./Save_data/buyers.pkl']"
      ]
     },
     "execution_count": 9,
     "metadata": {},
     "output_type": "execute_result"
    }
   ],
   "source": [
    "k = 5\n",
    "\n",
    "# 对于每个用户计算他们购买的游戏数量\n",
    "purchase_counts = np.apply_along_axis(np.bincount, 1, user_game_pref.astype(int))\n",
    "buyers_idx = np.where(purchase_counts[:, 1] >= 2 * k)[0] #购买超过2*k个游戏的买家集合\n",
    "print('{0}名玩家购买了至少{1}款游戏'.format(len(buyers_idx), 2 * k))\n",
    "# 保存有效购买用户名单\n",
    "joblib.dump(buyers_idx, './Save_data/buyers.pkl')"
   ]
  },
  {
   "cell_type": "code",
   "execution_count": 10,
   "metadata": {},
   "outputs": [],
   "source": [
    "test_frac = 0.2 # 10%数据用来验证，10%数据用来测试\n",
    "test_users_idx = np.random.choice(buyers_idx, \n",
    "                                  size = int(np.ceil(len(buyers_idx) * test_frac)), \n",
    "                                  replace = False)\n",
    "val_users_idx = test_users_idx[:int(len(test_users_idx) / 2)]\n",
    "test_users_idx = test_users_idx[int(len(test_users_idx) / 2):]"
   ]
  },
  {
   "cell_type": "code",
   "execution_count": 11,
   "metadata": {},
   "outputs": [],
   "source": [
    "# 在训练集中掩盖k个游戏\n",
    "def data_process(dat, train, test, user_idx, k):\n",
    "    for user in user_idx:\n",
    "        purchases = np.where(dat[user, :] == 1)[0]\n",
    "        mask = np.random.choice(purchases, size = k, replace = False)\n",
    "        train[user, mask] = 0\n",
    "        test[user, mask] = dat[user, mask]\n",
    "    return train, test"
   ]
  },
  {
   "cell_type": "code",
   "execution_count": 12,
   "metadata": {},
   "outputs": [],
   "source": [
    "train_matrix = user_game_pref.copy()\n",
    "test_matrix = zero_matrix.copy()\n",
    "val_matrix = zero_matrix.copy()\n",
    "\n",
    "train_matrix, val_matrix = data_process(user_game_pref, train_matrix, val_matrix, val_users_idx, k)\n",
    "train_matrix, test_matrix = data_process(user_game_pref, train_matrix, test_matrix, test_users_idx, k)"
   ]
  },
  {
   "cell_type": "code",
   "execution_count": 13,
   "metadata": {},
   "outputs": [
    {
     "data": {
      "text/plain": [
       "array([1., 1., 1., 1., 1.])"
      ]
     },
     "execution_count": 13,
     "metadata": {},
     "output_type": "execute_result"
    }
   ],
   "source": [
    "test_matrix[test_users_idx[0], test_matrix[test_users_idx[0], :].nonzero()[0]]"
   ]
  },
  {
   "cell_type": "code",
   "execution_count": 14,
   "metadata": {},
   "outputs": [
    {
     "data": {
      "text/plain": [
       "array([0., 0., 0., 0., 0.])"
      ]
     },
     "execution_count": 14,
     "metadata": {},
     "output_type": "execute_result"
    }
   ],
   "source": [
    "train_matrix[test_users_idx[0], test_matrix[test_users_idx[0], :].nonzero()[0]]"
   ]
  },
  {
   "cell_type": "code",
   "execution_count": 15,
   "metadata": {},
   "outputs": [],
   "source": [
    "tf.reset_default_graph()\n",
    "\n",
    "# 偏好矩阵\n",
    "pref = tf.placeholder(tf.float32, (n_users, n_games))\n",
    "# 游戏时间矩阵\n",
    "interactions = tf.placeholder(tf.float32, (n_users, n_games))\n",
    "user_idx = tf.placeholder(tf.int32, (None))"
   ]
  },
  {
   "cell_type": "code",
   "execution_count": 16,
   "metadata": {},
   "outputs": [],
   "source": [
    "n_features = 30 # 隐藏特征个数设置为30\n",
    "\n",
    "# X矩阵（用户-隐藏特征）表示用户潜在偏好\n",
    "X = tf.Variable(tf.truncated_normal([n_users, n_features], mean = 0, stddev = 0.05), dtype = tf.float32, name = 'X')\n",
    "# Y矩阵（游戏-隐藏特征）表示游戏潜在特征\n",
    "Y = tf.Variable(tf.truncated_normal([n_games, n_features], mean = 0, stddev = 0.05), dtype = tf.float32, name = 'Y')\n",
    "\n",
    "# 置信度参数初始化\n",
    "conf_alpha = tf.Variable(tf.random_uniform([1], 0,1))"
   ]
  },
  {
   "cell_type": "code",
   "execution_count": 17,
   "metadata": {},
   "outputs": [],
   "source": [
    "# 初始化用户偏差\n",
    "user_bias = tf.Variable(tf.truncated_normal([n_users, 1], stddev = 0.2))\n",
    "\n",
    "# 将向量连接到用户矩阵\n",
    "X_plus_bias = tf.concat([X,\n",
    "                        user_bias,\n",
    "                        tf.ones((n_users, 1), dtype = tf.float32)], \n",
    "                        axis = 1)"
   ]
  },
  {
   "cell_type": "code",
   "execution_count": 18,
   "metadata": {},
   "outputs": [],
   "source": [
    "# 初始化游戏偏差\n",
    "item_bias = tf.Variable(tf.truncated_normal([n_games, 1], stddev = 0.2))\n",
    "\n",
    "# 将向量连接到游戏矩阵\n",
    "Y_plus_bias = tf.concat([Y,\n",
    "                        tf.ones((n_games, 1), dtype = tf.float32),\n",
    "                        item_bias],\n",
    "                        axis = 1)"
   ]
  },
  {
   "cell_type": "code",
   "execution_count": 19,
   "metadata": {},
   "outputs": [],
   "source": [
    "# 通过矩阵乘积确定结果评分矩阵\n",
    "pred_pref = tf.matmul(X_plus_bias, Y_plus_bias, transpose_b = True)\n",
    "\n",
    "# 使用游戏时长与alpha参数构造置信度矩阵\n",
    "conf = 1 + conf_alpha * interactions"
   ]
  },
  {
   "cell_type": "code",
   "execution_count": 20,
   "metadata": {},
   "outputs": [],
   "source": [
    "#损失函数\n",
    "cost = tf.reduce_sum(tf.multiply(conf, tf.square(tf.subtract(pref, pred_pref))))\n",
    "l2_sqr = tf.nn.l2_loss(X) + tf.nn.l2_loss(Y) + tf.nn.l2_loss(user_bias) + tf.nn.l2_loss(item_bias)\n",
    "lambda_c = 0.01\n",
    "loss = cost + lambda_c * l2_sqr"
   ]
  },
  {
   "cell_type": "code",
   "execution_count": 21,
   "metadata": {},
   "outputs": [
    {
     "name": "stdout",
     "output_type": "stream",
     "text": [
      "WARNING:tensorflow:From /Users/lhc456/opt/anaconda3/lib/python3.9/site-packages/tensorflow/python/training/adagrad.py:76: calling Constant.__init__ (from tensorflow.python.ops.init_ops) with dtype is deprecated and will be removed in a future version.\n",
      "Instructions for updating:\n",
      "Call initializer instance with the dtype argument instead of passing it to the constructor\n"
     ]
    }
   ],
   "source": [
    "#梯度下降算法优化器\n",
    "lr = 0.05\n",
    "optimize = tf.train.AdagradOptimizer(learning_rate = lr).minimize(loss)"
   ]
  },
  {
   "cell_type": "code",
   "execution_count": 22,
   "metadata": {},
   "outputs": [],
   "source": [
    "# 精确度计算优化，将游戏本体和DLC合并为同一种游戏\n",
    "def precision_dlc(recommandations, labels):\n",
    "    # 推荐的游戏按单词划分\n",
    "    recommandations_split = []\n",
    "    # 实际购买的游戏按单词划分\n",
    "    labels_split = []\n",
    "    for label in labels:\n",
    "        labels_split.append(idx2game[label].split())\n",
    "    for game in recommandations:\n",
    "        recommandations_split.append(idx2game[game].split())\n",
    "        \n",
    "    count = 0\n",
    "    for game in recommandations_split:\n",
    "        for label in labels_split:\n",
    "            # 当推荐的游戏与实际购买的游戏单词重合度高于阈值判定为同一款游戏\n",
    "            if (len(set(game) & set(label)) / min(len(game),len(label))) > 0.2:\n",
    "                count += 1\n",
    "                break\n",
    "    \n",
    "    return float(count / len(recommandations))\n",
    "            "
   ]
  },
  {
   "cell_type": "code",
   "execution_count": 23,
   "metadata": {},
   "outputs": [],
   "source": [
    "# 从预测的列表中挑选最高的k个\n",
    "def top_k_precision(pred, mat, k, user_idx):\n",
    "    precisions = []\n",
    "    for user in user_idx:\n",
    "        rec = np.argsort(-pred[user, :])\n",
    "        # 选取推荐评分最高的k个\n",
    "        top_k = rec[:k]\n",
    "        labels = mat[user, :].nonzero()[0]\n",
    "        # 计算推荐与实际的准确率并返回\n",
    "        precision = precision_dlc(top_k, labels)\n",
    "        precisions.append(precision)\n",
    "    return np.mean(precisions)"
   ]
  },
  {
   "cell_type": "code",
   "execution_count": 24,
   "metadata": {},
   "outputs": [
    {
     "name": "stderr",
     "output_type": "stream",
     "text": [
      "2023-01-08 00:01:04.867516: I tensorflow/core/platform/cpu_feature_guard.cc:142] This TensorFlow binary is optimized with oneAPI Deep Neural Network Library (oneDNN) to use the following CPU instructions in performance-critical operations:  AVX2 FMA\n",
      "To enable them in other operations, rebuild TensorFlow with the appropriate compiler flags.\n"
     ]
    },
    {
     "name": "stdout",
     "output_type": "stream",
     "text": [
      "当前进度：0... 误差为：3666590.75... 训练集上的正确率：0.465... 验证集上的正确率：0.247\n",
      "当前进度：10... 误差为：273364.12... 训练集上的正确率：0.716... 验证集上的正确率：0.331\n",
      "当前进度：20... 误差为：209843.83... 训练集上的正确率：0.747... 验证集上的正确率：0.358\n",
      "当前进度：30... 误差为：181353.75... 训练集上的正确率：0.777... 验证集上的正确率：0.370\n",
      "当前进度：40... 误差为：160562.83... 训练集上的正确率：0.804... 验证集上的正确率：0.373\n",
      "当前进度：50... 误差为：142895.80... 训练集上的正确率：0.821... 验证集上的正确率：0.378\n",
      "当前进度：60... 误差为：126207.24... 训练集上的正确率：0.826... 验证集上的正确率：0.379\n",
      "当前进度：70... 误差为：108554.54... 训练集上的正确率：0.833... 验证集上的正确率：0.380\n",
      "当前进度：80... 误差为：86285.98... 训练集上的正确率：0.836... 验证集上的正确率：0.386\n",
      "当前进度：90... 误差为：33459.42... 训练集上的正确率：0.827... 验证集上的正确率：0.374\n",
      "当前进度：100... 误差为：-1630931.88... 训练集上的正确率：0.732... 验证集上的正确率：0.347\n",
      "当前进度：110... 误差为：-98294584.00... 训练集上的正确率：0.578... 验证集上的正确率：0.261\n",
      "当前进度：120... 误差为：-822202816.00... 训练集上的正确率：0.535... 验证集上的正确率：0.229\n",
      "当前进度：130... 误差为：-2845831936.00... 训练集上的正确率：0.494... 验证集上的正确率：0.209\n",
      "当前进度：140... 误差为：-6727444480.00... 训练集上的正确率：0.468... 验证集上的正确率：0.195\n",
      "当前进度：150... 误差为：-12936225792.00... 训练集上的正确率：0.457... 验证集上的正确率：0.187\n",
      "当前进度：160... 误差为：-21883930624.00... 训练集上的正确率：0.445... 验证集上的正确率：0.181\n",
      "当前进度：170... 误差为：-33936431104.00... 训练集上的正确率：0.435... 验证集上的正确率：0.175\n",
      "当前进度：180... 误差为：-49429921792.00... 训练集上的正确率：0.432... 验证集上的正确率：0.175\n",
      "当前进度：190... 误差为：-68672937984.00... 训练集上的正确率：0.429... 验证集上的正确率：0.175\n",
      "当前进度：200... 误差为：-91955388416.00... 训练集上的正确率：0.426... 验证集上的正确率：0.173\n",
      "当前进度：210... 误差为：-119548624896.00... 训练集上的正确率：0.426... 验证集上的正确率：0.173\n",
      "当前进度：220... 误差为：-151710351360.00... 训练集上的正确率：0.424... 验证集上的正确率：0.172\n",
      "当前进度：230... 误差为：-188686303232.00... 训练集上的正确率：0.421... 验证集上的正确率：0.165\n",
      "当前进度：240... 误差为：-230710640640.00... 训练集上的正确率：0.417... 验证集上的正确率：0.165\n",
      "当前进度：250... 误差为：-278008725504.00... 训练集上的正确率：0.420... 验证集上的正确率：0.168\n",
      "当前进度：260... 误差为：-330797711360.00... 训练集上的正确率：0.421... 验证集上的正确率：0.169\n",
      "当前进度：270... 误差为：-389286461440.00... 训练集上的正确率：0.419... 验证集上的正确率：0.169\n",
      "当前进度：280... 误差为：-453677580288.00... 训练集上的正确率：0.421... 验证集上的正确率：0.171\n",
      "当前进度：290... 误差为：-524167675904.00... 训练集上的正确率：0.423... 验证集上的正确率：0.173\n",
      "当前进度：300... 误差为：-600947294208.00... 训练集上的正确率：0.424... 验证集上的正确率：0.174\n",
      "当前进度：310... 误差为：-684201803776.00... 训练集上的正确率：0.426... 验证集上的正确率：0.175\n",
      "当前进度：320... 误差为：-774112083968.00... 训练集上的正确率：0.427... 验证集上的正确率：0.174\n",
      "当前进度：330... 误差为：-870854426624.00... 训练集上的正确率：0.424... 验证集上的正确率：0.174\n",
      "当前进度：340... 误差为：-974600994816.00... 训练集上的正确率：0.418... 验证集上的正确率：0.174\n",
      "当前进度：350... 误差为：-1085520084992.00... 训练集上的正确率：0.416... 验证集上的正确率：0.172\n",
      "当前进度：360... 误差为：-1203776651264.00... 训练集上的正确率：0.414... 验证集上的正确率：0.171\n",
      "当前进度：370... 误差为：-1329531453440.00... 训练集上的正确率：0.415... 验证集上的正确率：0.170\n",
      "当前进度：380... 误差为：-1462943744000.00... 训练集上的正确率：0.412... 验证集上的正确率：0.168\n",
      "当前进度：390... 误差为：-1604168056832.00... 训练集上的正确率：0.410... 验证集上的正确率：0.168\n",
      "当前进度：400... 误差为：-1753356697600.00... 训练集上的正确率：0.408... 验证集上的正确率：0.167\n",
      "当前进度：410... 误差为：-1910659481600.00... 训练集上的正确率：0.405... 验证集上的正确率：0.166\n",
      "当前进度：420... 误差为：-2076223602688.00... 训练集上的正确率：0.404... 验证集上的正确率：0.165\n",
      "当前进度：430... 误差为：-2250193764352.00... 训练集上的正确率：0.404... 验证集上的正确率：0.164\n",
      "当前进度：440... 误差为：-2432712310784.00... 训练集上的正确率：0.404... 验证集上的正确率：0.164\n",
      "当前进度：450... 误差为：-2623919620096.00... 训练集上的正确率：0.403... 验证集上的正确率：0.164\n",
      "当前进度：460... 误差为：-2823953317888.00... 训练集上的正确率：0.402... 验证集上的正确率：0.166\n",
      "当前进度：470... 误差为：-3032951029760.00... 训练集上的正确率：0.400... 验证集上的正确率：0.166\n",
      "当前进度：480... 误差为：-3251044876288.00... 训练集上的正确率：0.400... 验证集上的正确率：0.166\n",
      "当前进度：490... 误差为：-3478368813056.00... 训练集上的正确率：0.400... 验证集上的正确率：0.166\n",
      "\n",
      "\n",
      "模型完成，正确率为：0.193\n"
     ]
    }
   ],
   "source": [
    "iterations = 500\n",
    "# 绘图用数据：误差、训练集准确率\n",
    "fig_loss = np.zeros([iterations])\n",
    "fig_train_precision = np.zeros([iterations])\n",
    "\n",
    "with tf.Session() as sess:\n",
    "    sess.run(tf.global_variables_initializer())\n",
    "    \n",
    "    for i in range(iterations):\n",
    "        sess.run(optimize, feed_dict = {pref: train_matrix, \n",
    "                                       interactions: user_game_interactions})\n",
    "        if i % 10 == 0:\n",
    "            mod_loss = sess.run(loss, feed_dict = {pref: train_matrix,\n",
    "                                                   interactions: user_game_interactions})\n",
    "            mod_pred = pred_pref.eval()\n",
    "            train_precision = top_k_precision(mod_pred, train_matrix, k, val_users_idx)\n",
    "            val_precision = top_k_precision(mod_pred, val_matrix, k, val_users_idx)\n",
    "            print('当前进度：{}...'.format(i),\n",
    "                  '误差为：{:.2f}...'.format(mod_loss),\n",
    "                  '训练集上的正确率：{:.3f}...'.format(train_precision),\n",
    "                  '验证集上的正确率：{:.3f}'.format(val_precision))\n",
    "        fig_loss[i] = sess.run(loss, feed_dict = {pref: train_matrix,\n",
    "                                                  interactions: user_game_interactions})\n",
    "        fig_train_precision[i] = top_k_precision(mod_pred, train_matrix, k, val_users_idx)\n",
    "    rec = pred_pref.eval()\n",
    "    test_precision = top_k_precision(rec, test_matrix, k, test_users_idx)\n",
    "    print('\\n')\n",
    "    print('模型完成，正确率为：{:.3f}'.format(test_precision))"
   ]
  },
  {
   "cell_type": "code",
   "execution_count": 25,
   "metadata": {},
   "outputs": [
    {
     "name": "stdout",
     "output_type": "stream",
     "text": [
      "给id为248216340的玩家推荐的游戏如下：\n",
      "Dota 2，Disciples III Reincarnation，GRID，Zombie Panic Source，Rocksmith 2014\n",
      "玩家实际购买游戏如下：\n",
      "Counter-Strike Global Offensive，Dead Island Epidemic，TERA，World of Guns Gun Disassembly，Gotham City Impostors Free To Play\n",
      "准确率：0.00%\n",
      "\n",
      "\n",
      "给id为5220782的玩家推荐的游戏如下：\n",
      "Dota 2，Transformice，Rusty Hearts，Spiral Knights，Sword of the Stars II Enhanced Edition\n",
      "玩家实际购买游戏如下：\n",
      "Day of Defeat，Deathmatch Classic，Ricochet，Half-Life Deathmatch Source，Half-Life Source\n",
      "准确率：20.00%\n",
      "\n",
      "\n",
      "给id为148246305的玩家推荐的游戏如下：\n",
      "Train Simulator，Rising Storm/Red Orchestra 2 Multiplayer，Sonic Generations，Counter-Strike Condition Zero，Farming Simulator 2013\n",
      "玩家实际购买游戏如下：\n",
      "theHunter，PAYDAY The Heist，Quake Live，World of Guns Gun Disassembly，AdVenture Capitalist\n",
      "准确率：0.00%\n",
      "\n",
      "\n",
      "给id为97614578的玩家推荐的游戏如下：\n",
      "Disciples III Reincarnation，GRID，Zombie Panic Source，Out of the Park Baseball 16，Rocksmith 2014\n",
      "玩家实际购买游戏如下：\n",
      "War Thunder，World of Guns Gun Disassembly，Euro Truck Simulator 2 - Ice Cold Paint Jobs Pack，Survarium，PAYDAY The Web Series - Episode 1\n",
      "准确率：0.00%\n",
      "\n",
      "\n",
      "给id为117022366的玩家推荐的游戏如下：\n",
      "The Treasures of Montezuma 4，Victor Vran，Zuma's Revenge，The Dreamatorium of Dr. Magnus 2，GRID\n",
      "玩家实际购买游戏如下：\n",
      "Call of Duty Modern Warfare 3 - Multiplayer，PlanetSide 2，Hazard Ops，OMSI 2，Island Flight Simulator\n",
      "准确率：20.00%\n",
      "\n",
      "\n"
     ]
    }
   ],
   "source": [
    "n_examples = 5\n",
    "users = np.random.choice(test_users_idx, size = n_examples, replace = False)\n",
    "rec_games = np.argsort(-rec)\n",
    "\n",
    "for user in users:\n",
    "    purchase_history = np.where(train_matrix[user, : ] != 0)[0]\n",
    "    recommandations = rec_games[user, : ]\n",
    "    new_recommandations = recommandations[~np.in1d(recommandations, purchase_history)][:k]\n",
    "    \n",
    "    print('给id为{0}的玩家推荐的游戏如下：'.format(idx2user[user]))\n",
    "    print('，'.join([idx2game[game] for game in new_recommandations]))\n",
    "    print('玩家实际购买游戏如下：')\n",
    "    print('，'.join([idx2game[game] for game in np.where(test_matrix[user, : ] != 0)[0]]))\n",
    "    print('准确率：{:.2f}%'.format( 100 * precision_dlc(new_recommandations, np.where(test_matrix[user, : ] != 0)[0])))\n",
    "    print('\\n')"
   ]
  },
  {
   "cell_type": "code",
   "execution_count": 26,
   "metadata": {},
   "outputs": [],
   "source": [
    "# 将训练得到的评分矩阵保存\n",
    "with tf.Session() as sess:\n",
    "    sess.run(tf.global_variables_initializer())\n",
    "    joblib.dump(pred_pref.eval(), './Save_data/rec.pkl')"
   ]
  },
  {
   "cell_type": "code",
   "execution_count": 27,
   "metadata": {},
   "outputs": [
    {
     "name": "stderr",
     "output_type": "stream",
     "text": [
      "findfont: Font family ['sans-serif'] not found. Falling back to DejaVu Sans.\n",
      "findfont: Generic family 'sans-serif' not found because none of the following families were found: KaiTi\n",
      "/Users/lhc456/opt/anaconda3/lib/python3.9/site-packages/IPython/core/pylabtools.py:151: UserWarning: Glyph 35757 (\\N{CJK UNIFIED IDEOGRAPH-8BAD}) missing from current font.\n",
      "  fig.canvas.print_figure(bytes_io, **kw)\n",
      "/Users/lhc456/opt/anaconda3/lib/python3.9/site-packages/IPython/core/pylabtools.py:151: UserWarning: Glyph 32451 (\\N{CJK UNIFIED IDEOGRAPH-7EC3}) missing from current font.\n",
      "  fig.canvas.print_figure(bytes_io, **kw)\n",
      "/Users/lhc456/opt/anaconda3/lib/python3.9/site-packages/IPython/core/pylabtools.py:151: UserWarning: Glyph 36718 (\\N{CJK UNIFIED IDEOGRAPH-8F6E}) missing from current font.\n",
      "  fig.canvas.print_figure(bytes_io, **kw)\n",
      "/Users/lhc456/opt/anaconda3/lib/python3.9/site-packages/IPython/core/pylabtools.py:151: UserWarning: Glyph 27425 (\\N{CJK UNIFIED IDEOGRAPH-6B21}) missing from current font.\n",
      "  fig.canvas.print_figure(bytes_io, **kw)\n",
      "/Users/lhc456/opt/anaconda3/lib/python3.9/site-packages/IPython/core/pylabtools.py:151: UserWarning: Glyph 25439 (\\N{CJK UNIFIED IDEOGRAPH-635F}) missing from current font.\n",
      "  fig.canvas.print_figure(bytes_io, **kw)\n",
      "/Users/lhc456/opt/anaconda3/lib/python3.9/site-packages/IPython/core/pylabtools.py:151: UserWarning: Glyph 22833 (\\N{CJK UNIFIED IDEOGRAPH-5931}) missing from current font.\n",
      "  fig.canvas.print_figure(bytes_io, **kw)\n",
      "/Users/lhc456/opt/anaconda3/lib/python3.9/site-packages/IPython/core/pylabtools.py:151: UserWarning: Glyph 20540 (\\N{CJK UNIFIED IDEOGRAPH-503C}) missing from current font.\n",
      "  fig.canvas.print_figure(bytes_io, **kw)\n",
      "/Users/lhc456/opt/anaconda3/lib/python3.9/site-packages/IPython/core/pylabtools.py:151: UserWarning: Glyph 20934 (\\N{CJK UNIFIED IDEOGRAPH-51C6}) missing from current font.\n",
      "  fig.canvas.print_figure(bytes_io, **kw)\n",
      "/Users/lhc456/opt/anaconda3/lib/python3.9/site-packages/IPython/core/pylabtools.py:151: UserWarning: Glyph 30830 (\\N{CJK UNIFIED IDEOGRAPH-786E}) missing from current font.\n",
      "  fig.canvas.print_figure(bytes_io, **kw)\n",
      "/Users/lhc456/opt/anaconda3/lib/python3.9/site-packages/IPython/core/pylabtools.py:151: UserWarning: Glyph 29575 (\\N{CJK UNIFIED IDEOGRAPH-7387}) missing from current font.\n",
      "  fig.canvas.print_figure(bytes_io, **kw)\n"
     ]
    },
    {
     "data": {
      "image/png": "[encoded data removed]",
      "text/plain": [
       "<Figure size 432x288 with 2 Axes>"
      ]
     },
     "metadata": {
      "needs_background": "light"
     },
     "output_type": "display_data"
    }
   ],
   "source": [
    "import matplotlib.pyplot as plt\n",
    "plt.rcParams['font.sans-serif'] = ['KaiTi']\n",
    "\n",
    "fig, ax1 = plt.subplots()\n",
    "ax2 = ax1.twinx()\n",
    "lns1 = ax1.plot(np.arange(iterations), fig_loss, label = 'Loss')\n",
    "lns2 = ax2.plot(np.arange(iterations), fig_train_precision, 'r', label = 'Train Accuracy')\n",
    "ax1.set_xlabel('训练轮次')\n",
    "ax1.set_ylabel('训练损失值')\n",
    "ax2.set_ylabel('训练准确率')\n",
    "# 合并图例\n",
    "lns = lns1 + lns2\n",
    "labels = ['损失', '准确率']\n",
    "plt.legend(lns, labels, loc=7)\n",
    "plt.show()"
   ]
  },
  {
   "cell_type": "code",
   "execution_count": null,
   "metadata": {},
   "outputs": [],
   "source": []
  },
  {
   "cell_type": "code",
   "execution_count": null,
   "metadata": {},
   "outputs": [],
   "source": []
  }
 ],
 "metadata": {
  "kernelspec": {
   "display_name": "Python 3 (ipykernel)",
   "language": "python",
   "name": "python3"
  },
  "language_info": {
   "codemirror_mode": {
    "name": "ipython",
    "version": 3
   },
   "file_extension": ".py",
   "mimetype": "text/x-python",
   "name": "python",
   "nbconvert_exporter": "python",
   "pygments_lexer": "ipython3",
   "version": "3.9.12"
  }
 },
 "nbformat": 4,
 "nbformat_minor": 4
}
